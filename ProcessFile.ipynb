{
 "cells": [
  {
   "cell_type": "code",
   "execution_count": 1,
   "metadata": {},
   "outputs": [],
   "source": [
    "from CheckData import *"
   ]
  },
  {
   "cell_type": "code",
   "execution_count": 2,
   "metadata": {},
   "outputs": [
    {
     "name": "stdout",
     "output_type": "stream",
     "text": [
      "constructing datasets\n",
      "done\n"
     ]
    }
   ],
   "source": [
    "dfs = make_dataframes(open(\"./Module0_log_band_gap.csv\"))"
   ]
  },
  {
   "cell_type": "code",
   "execution_count": 5,
   "metadata": {},
   "outputs": [
    {
     "name": "stdout",
     "output_type": "stream",
     "text": [
      "dict_keys(['VP0_Asic0', 'VP0_Asic1', 'VP0_Asic2', 'VP1_Asic0', 'VP1_Asic1', 'VP1_Asic2', 'VP2_Asic0', 'VP2_Asic1', 'VP2_Asic2', 'VP3_Asic0', 'VP3_Asic1', 'VP3_Asic2'])\n",
      "averaging between 2019-07-29 12:30:00 2019-07-29 12:32:00\n",
      "now on dataset VP0_Asic0\n",
      "Voltage      0.216102\n",
      "Temp       -77.142500\n",
      "Offset     179.140000\n",
      "dtype: float64\n",
      "now on dataset VP0_Asic1\n",
      "Voltage      0.208193\n",
      "Temp       -80.878333\n",
      "Offset     179.140000\n",
      "dtype: float64\n",
      "now on dataset VP0_Asic2\n",
      "Voltage      0.212463\n",
      "Temp       -78.864576\n",
      "Offset     179.140000\n",
      "dtype: float64\n",
      "now on dataset VP1_Asic0\n",
      "Voltage      0.222453\n",
      "Temp       -74.141333\n",
      "Offset     179.140000\n",
      "dtype: float64\n",
      "now on dataset VP1_Asic1\n",
      "Voltage      0.217990\n",
      "Temp       -76.250167\n",
      "Offset     179.140000\n",
      "dtype: float64\n",
      "now on dataset VP1_Asic2\n",
      "Voltage      0.223910\n",
      "Temp       -73.458667\n",
      "Offset     179.140000\n",
      "dtype: float64\n",
      "now on dataset VP2_Asic0\n",
      "Voltage      0.335372\n",
      "Temp       -20.848833\n",
      "Offset     179.140000\n",
      "dtype: float64\n",
      "now on dataset VP2_Asic1\n",
      "Voltage      0.290373\n",
      "Temp       -42.086167\n",
      "Offset     179.140000\n",
      "dtype: float64\n",
      "now on dataset VP2_Asic2\n",
      "Voltage      0.251262\n",
      "Temp       -60.550167\n",
      "Offset     179.140000\n",
      "dtype: float64\n",
      "now on dataset VP3_Asic0\n",
      "Voltage      0.225592\n",
      "Temp       -72.664833\n",
      "Offset     179.140000\n",
      "dtype: float64\n",
      "now on dataset VP3_Asic1\n",
      "Voltage      0.233162\n",
      "Temp       -69.088500\n",
      "Offset     179.140000\n",
      "dtype: float64\n",
      "now on dataset VP3_Asic2\n",
      "Voltage      0.228907\n",
      "Temp       -71.101186\n",
      "Offset     179.140000\n",
      "dtype: float64\n"
     ]
    }
   ],
   "source": [
    "print(dfs.keys())\n",
    "tstart=\"12:30:00\"\n",
    "tstop=\"12:32:00\"\n",
    "average_data(tstart,tstop,dfs)"
   ]
  },
  {
   "cell_type": "code",
   "execution_count": null,
   "metadata": {},
   "outputs": [],
   "source": []
  }
 ],
 "metadata": {
  "kernelspec": {
   "display_name": "Python 3",
   "language": "python",
   "name": "python3"
  },
  "language_info": {
   "codemirror_mode": {
    "name": "ipython",
    "version": 3
   },
   "file_extension": ".py",
   "mimetype": "text/x-python",
   "name": "python",
   "nbconvert_exporter": "python",
   "pygments_lexer": "ipython3",
   "version": "3.7.4"
  }
 },
 "nbformat": 4,
 "nbformat_minor": 2
}
